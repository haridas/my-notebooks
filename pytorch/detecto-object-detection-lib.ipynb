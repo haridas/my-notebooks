{
 "cells": [
  {
   "cell_type": "code",
   "execution_count": 3,
   "metadata": {},
   "outputs": [],
   "source": [
    "# !pip install detecto"
   ]
  },
  {
   "cell_type": "code",
   "execution_count": 182,
   "metadata": {},
   "outputs": [],
   "source": [
    "import glob\n",
    "import numpy as np\n",
    "import io\n",
    "\n",
    "import skimage\n",
    "from PIL import Image\n",
    "from detecto.core import Model\n",
    "from detecto.visualize import detect_live, detect_video, plot_prediction_grid\n",
    "from detecto.core import DataLoader, Dataset\n",
    "from detecto.utils import read_image, xml_to_csv, normalize_transform\n",
    "\n",
    "import torchvision.transforms as T\n",
    "# from torchvision.models.detection import \n",
    "\n",
    "import matplotlib.pyplot as plt"
   ]
  },
  {
   "cell_type": "code",
   "execution_count": 3,
   "metadata": {},
   "outputs": [],
   "source": [
    "model = Model()"
   ]
  },
  {
   "cell_type": "code",
   "execution_count": 175,
   "metadata": {},
   "outputs": [],
   "source": [
    "# !du -sh /Users/haridas/.cache/torch/checkpoints/fasterrcnn_resnet50_fpn_coco-258fb6c6.pth"
   ]
  },
  {
   "cell_type": "code",
   "execution_count": 57,
   "metadata": {},
   "outputs": [],
   "source": [
    "# detect_live(model)\n",
    "train_dir = \"/Users/haridas/Projects/pic2card/data/train_and_test/train/\"\n",
    "test_dir = \"/Users/haridas/Projects/pic2card/data/train_and_test/test\""
   ]
  },
  {
   "cell_type": "code",
   "execution_count": null,
   "metadata": {},
   "outputs": [],
   "source": []
  },
  {
   "cell_type": "code",
   "execution_count": 31,
   "metadata": {},
   "outputs": [],
   "source": [
    "# plot_prediction_grid\n",
    "train_labels = xml_to_csv(\n",
    "    '/Users/haridas/Projects/pic2card/data/train_and_test/train/',\n",
    "    '/Users/haridas/Projects/pic2card/data/train_and_test/train_label.csv'\n",
    ")\n",
    "val_labels = xml_to_csv(\n",
    "    '/Users/haridas/Projects/pic2card/data/train_and_test/test/',\n",
    "    '/Users/haridas/Projects/pic2card/data/train_and_test/test_label.csv'\n",
    ")"
   ]
  },
  {
   "cell_type": "code",
   "execution_count": 210,
   "metadata": {},
   "outputs": [],
   "source": [
    "# Image reader and pre-processing pipeline.\n",
    "transformer = T.Compose([\n",
    "    T.ToPILImage(),\n",
    "    lambda image: image.convert(\"RGB\"),\n",
    "    T.ToTensor(),\n",
    "    normalize_transform()\n",
    "])"
   ]
  },
  {
   "cell_type": "code",
   "execution_count": 211,
   "metadata": {},
   "outputs": [],
   "source": [
    "dataset = Dataset(\n",
    "    '/Users/haridas/Projects/pic2card/data/train_and_test/train_label.csv',\n",
    "    image_folder='/Users/haridas/Projects/pic2card/data/train_and_test/train/',\n",
    "    transform=transformer\n",
    ")\n",
    "\n",
    "\n",
    "val_dataset = Dataset(\n",
    "    '/Users/haridas/Projects/pic2card/data/train_and_test/test_label.csv',\n",
    "    image_folder='/Users/haridas/Projects/pic2card/data/train_and_test/test/',\n",
    "    transform=transformer\n",
    ")"
   ]
  },
  {
   "cell_type": "code",
   "execution_count": 193,
   "metadata": {},
   "outputs": [],
   "source": [
    "# Dataset?\n",
    "# for images, labels in dataset:\n",
    "#     break\n",
    "img = read_image(\n",
    "    \"/Users/haridas/Projects/pic2card/data/train_and_test/train/3.png\"\n",
    ")\n",
    "# transformer = T.Compose([T.ToTensor(), normalize_transform()])\n",
    "# np.unique([read_image(i).shape[2] for i in glob.glob(f\"{train_dir}/*.png\")])\n",
    "# T.Normalize(mean=[0.485, 0.456, 0.406], std=[0.229, 0.224, 0.225])(img)"
   ]
  },
  {
   "cell_type": "code",
   "execution_count": null,
   "metadata": {},
   "outputs": [],
   "source": []
  },
  {
   "cell_type": "code",
   "execution_count": 216,
   "metadata": {},
   "outputs": [],
   "source": [
    "# new_model = Model(labels['class'].unique().tolist())"
   ]
  },
  {
   "cell_type": "code",
   "execution_count": 157,
   "metadata": {},
   "outputs": [],
   "source": [
    "# dataset._csv.describe()"
   ]
  },
  {
   "cell_type": "code",
   "execution_count": 209,
   "metadata": {},
   "outputs": [],
   "source": [
    "# new_model.fit(dataset)"
   ]
  }
 ],
 "metadata": {
  "kernelspec": {
   "display_name": "Python 3",
   "language": "python",
   "name": "python3"
  },
  "language_info": {
   "codemirror_mode": {
    "name": "ipython",
    "version": 3
   },
   "file_extension": ".py",
   "mimetype": "text/x-python",
   "name": "python",
   "nbconvert_exporter": "python",
   "pygments_lexer": "ipython3",
   "version": "3.7.7"
  }
 },
 "nbformat": 4,
 "nbformat_minor": 4
}
