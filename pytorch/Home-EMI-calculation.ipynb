{
 "cells": [
  {
   "cell_type": "markdown",
   "metadata": {},
   "source": [
    "# Loan pre-payment analysis\n",
    "\n",
    "Create Date: 08/June/2020\n",
    "Last updated: \n",
    "\n",
    "Home Loan repayment analysis before even starting the EMI\n",
    "\n",
    "\n",
    "### re-payment schedule\n",
    "\n",
    "1. private firm till 60 age loan re-payment.\n",
    "2. Gov job till age 70 repayment possible.\n",
    "\n",
    "\n",
    "### Loan eligibility check on 08/jun/2020\n",
    "\n",
    "SBI is ready to give upto 80%.\n",
    "\n",
    "\n",
    "https://cleartax.in/s/home-loan-tax-benefit"
   ]
  },
  {
   "cell_type": "code",
   "execution_count": null,
   "metadata": {},
   "outputs": [],
   "source": []
  },
  {
   "cell_type": "code",
   "execution_count": 1,
   "metadata": {},
   "outputs": [],
   "source": [
    "# Basic constants involved.\n",
    "sqft = 1600\n",
    "price_sqft = 5100\n",
    "car_charge = 350000\n",
    "\n",
    "# Total price of an asset without any tax or other charges.\n",
    "total_asset_value = sqft * price_sqft + car_charge\n",
    "\n",
    "# 1% cess extra\n",
    "gst_f = lambda x: (x / 100) * (7.5 + 1)\n",
    "\n",
    "land_value_f = lambda total_v: total_v * (1/3)\n",
    "const_cost_f = lambda total_v: total_v * (2/3)\n",
    "reg_f = lambda land_v: (land_v / 100 ) * 7.0\n",
    "\n",
    "gst = gst_f(const_cost_f(total_asset_value))\n",
    "reg_charge = reg_f(land_value_f(total_asset_value))"
   ]
  },
  {
   "cell_type": "code",
   "execution_count": 22,
   "metadata": {},
   "outputs": [
    {
     "data": {
      "text/plain": [
       "2836666.6666666665"
      ]
     },
     "execution_count": 22,
     "metadata": {},
     "output_type": "execute_result"
    }
   ],
   "source": [
    "land_value_f(total_asset_value)"
   ]
  },
  {
   "cell_type": "code",
   "execution_count": 143,
   "metadata": {},
   "outputs": [
    {
     "data": {
      "text/plain": [
       "5673333.333333333"
      ]
     },
     "execution_count": 143,
     "metadata": {},
     "output_type": "execute_result"
    }
   ],
   "source": [
    "const_cost_f(total_asset_value)"
   ]
  },
  {
   "cell_type": "code",
   "execution_count": 158,
   "metadata": {},
   "outputs": [
    {
     "name": "stdout",
     "output_type": "stream",
     "text": [
      "Gst for construction: 482233.3333333333\n"
     ]
    }
   ],
   "source": [
    "print(f\"Gst for construction: {gst}\")"
   ]
  },
  {
   "cell_type": "code",
   "execution_count": 34,
   "metadata": {},
   "outputs": [
    {
     "data": {
      "text/plain": [
       "9390800.0"
      ]
     },
     "execution_count": 34,
     "metadata": {},
     "output_type": "execute_result"
    }
   ],
   "source": [
    "grant_total = total_asset_value + gst + reg_charge + 200000\n",
    "grant_total"
   ]
  },
  {
   "cell_type": "code",
   "execution_count": 20,
   "metadata": {},
   "outputs": [],
   "source": [
    "loan_amount = total_asset_value + gst"
   ]
  },
  {
   "cell_type": "code",
   "execution_count": 25,
   "metadata": {},
   "outputs": [
    {
     "data": {
      "text/plain": [
       "8992233.333333334"
      ]
     },
     "execution_count": 25,
     "metadata": {},
     "output_type": "execute_result"
    }
   ],
   "source": [
    "# loan_amount * (8/10)\n",
    "loan_amount"
   ]
  },
  {
   "cell_type": "code",
   "execution_count": 4,
   "metadata": {},
   "outputs": [],
   "source": [
    "co_pay = loan_amount / 4\n",
    "exp_loan_amount = loan_amount * ( 3 /4)"
   ]
  },
  {
   "cell_type": "code",
   "execution_count": 19,
   "metadata": {},
   "outputs": [
    {
     "data": {
      "text/plain": [
       "6744175.0"
      ]
     },
     "execution_count": 19,
     "metadata": {},
     "output_type": "execute_result"
    }
   ],
   "source": [
    "exp_loan_amount"
   ]
  },
  {
   "cell_type": "code",
   "execution_count": 66,
   "metadata": {},
   "outputs": [],
   "source": []
  },
  {
   "cell_type": "code",
   "execution_count": 5,
   "metadata": {},
   "outputs": [],
   "source": [
    "# Initial allocation of 36%\n",
    "# \n",
    "alloc1 = loan_amount * (36 / 100)\n",
    "copay1 = alloc1 / 4\n",
    "loan1 = alloc1 * (3/4)"
   ]
  },
  {
   "cell_type": "code",
   "execution_count": 231,
   "metadata": {},
   "outputs": [
    {
     "data": {
      "text/plain": [
       "(809301.0, 2427903.0, 6744175.0)"
      ]
     },
     "execution_count": 231,
     "metadata": {},
     "output_type": "execute_result"
    }
   ],
   "source": [
    "copay1, loan1, exp_loan_amount"
   ]
  },
  {
   "cell_type": "markdown",
   "metadata": {},
   "source": [
    "## Co-pay option for on-going projects"
   ]
  },
  {
   "cell_type": "code",
   "execution_count": null,
   "metadata": {},
   "outputs": [],
   "source": []
  },
  {
   "cell_type": "code",
   "execution_count": 295,
   "metadata": {},
   "outputs": [],
   "source": [
    "def pre_emi_calculation(exp_loan_amount,\n",
    "          allocation,\n",
    "          block_cont_ratio=0.25,\n",
    "          interest=8.0, init_full=False, pay_int=True, special=False, special_amount=1000000):\n",
    "    \"\"\"Quarter wise interest calculation with co-payment option.\n",
    "    \n",
    "    Only interest will be calculated till the building is ready to occupy.\n",
    "    \n",
    "    @param exp_loan_amount: \n",
    "    \n",
    "    \"\"\"\n",
    "    print(f\"Allocation: {allocation}\")\n",
    "    \n",
    "    init_alp = allocation[0]\n",
    "    # Special schema based on custom division.\n",
    "    if special:\n",
    "        init_block = exp_loan_amount * (init_alp[0] / 100)\n",
    "        init_self = special_amount\n",
    "        init_loan = init_block - init_self\n",
    "        base_int = (init_loan * (interest / 100)) / 12\n",
    "    else:\n",
    "        init_block = exp_loan_amount * (init_alp[0] / 100)\n",
    "        init_loan = init_block * (1 - block_cont_ratio)\n",
    "        init_self = init_block * (block_cont_ratio)\n",
    "        base_int = (init_loan * (interest / 100)) / 12\n",
    "    \n",
    "    print (init_block)\n",
    "    \n",
    "    if init_full:\n",
    "        int_total = 0\n",
    "        curr_loan = 0\n",
    "        curr_self = init_block\n",
    "        base_int = 0\n",
    "    else:\n",
    "        int_total = base_int\n",
    "        curr_loan = init_loan\n",
    "        curr_self = init_self\n",
    "        \n",
    "    if not pay_int:\n",
    "        curr_loan += base_int\n",
    "        base_int = 0\n",
    "        int_total = 0\n",
    "        \n",
    "        \n",
    "    print(f\"Initial Loan borrow Interest: {base_int}\")\n",
    "    print(f\"Initial Loan: {curr_loan}, Initial Invest: {curr_self} \")\n",
    "    \n",
    "    block_interest = []\n",
    "    block_interest.append(base_int * init_alp[1])\n",
    "    \n",
    "    allocs = allocation[1:]\n",
    "    \n",
    "    for alloc in allocs:\n",
    "        next_blok = exp_loan_amount * (alloc[0] / 100)\n",
    "        # 75% vs 25%\n",
    "        next_loan_part = next_blok * (1 - block_cont_ratio)\n",
    "        next_self_part = next_blok * block_cont_ratio\n",
    "        curr_self += next_self_part\n",
    "        curr_loan += next_loan_part\n",
    "        \n",
    "        base_int = (curr_loan * (interest / 100)) / 12\n",
    "        \n",
    "        if not pay_int:\n",
    "            curr_loan += base_int\n",
    "            base_int = 0\n",
    "        \n",
    "        # Monthly payments\n",
    "        # 1. interest for already dispersed \n",
    "        # 2. Accumulate for next installment.\n",
    "        print(f\"Curr Loan: {curr_loan: .2f}, Curr Self: {curr_self : .2f} QLBlock: {next_loan_part :.2f}, Qself({block_cont_ratio :.2f}): {next_self_part : .2f}, QInt: {base_int *  alloc[1] : .2f}, MPay: {base_int : .2f}\")\n",
    "        int_total += base_int * alloc[1]\n",
    "        block_interest.append(base_int * alloc[1])\n",
    "    \n",
    "    self_total = exp_loan_amount - curr_loan\n",
    "    self_gtotal = self_total + int_total\n",
    "    print(f\"\\nLoan: {exp_loan_amount}, Total pre-emi interest: {int_total}, principle: {curr_loan}, self: {self_total}, self Priciple + Interest: {self_gtotal}\")\n",
    "    return block_interest\n",
    "    "
   ]
  },
  {
   "cell_type": "code",
   "execution_count": 291,
   "metadata": {},
   "outputs": [
    {
     "data": {
      "text/plain": [
       "8992233.333333334"
      ]
     },
     "execution_count": 291,
     "metadata": {},
     "output_type": "execute_result"
    }
   ],
   "source": [
    "# 1000000 - (loan_amount * (16 / 100))\n",
    "# loan_amount\n",
    "# allocation = [36, 6, 6, 6, 6, 6, 6, 6, 6, 6, 3, 3, 2, 1, 1]\n",
    "# special_allocation = [16, 6, 6, 6, 6, 6, 6, 6, 6, 6, 6, 6, 6, 6, 6]\n",
    "new_allocation = [16, 6, 6, 6, 6, 6, 6, 6, 6, 6, 6, 6, 8, 8, 1, 1]\n",
    "# sum(new_allocation), sum(special_allocation), sum(allocation)\n",
    "\n",
    "# Initial quoat\n",
    "alloc_with_month_org = [(36, 1), (6, 3), (6, 3), (6, 3),\n",
    "                    (6, 3), (6, 3), (6, 3),\n",
    "                    (6, 2), (6, 2), (6, 2), (3, 4), (3, 3),\n",
    "                    (2, 6), (1, 6),\n",
    "                    (1, 1)\n",
    "                   ]\n",
    "\n",
    "# Allocation with the duration of month for the next allocation.\n",
    "alloc_with_month = [(16, 1), (6, 3), (6, 3), (6, 3),\n",
    "                    (6, 3), (6, 3), (6, 3),\n",
    "                    (6, 2), (6, 2), (6, 2), (6, 2), (6, 2),\n",
    "                    (8, 2), (8, 7),\n",
    "                    (1, 7), (1, 1)\n",
    "                   ]\n",
    "# print(sum([i[0] for i in alloc_with_month]))\n",
    "loan_amount"
   ]
  },
  {
   "cell_type": "code",
   "execution_count": 282,
   "metadata": {},
   "outputs": [],
   "source": [
    "# sum([i[0] for i in alloc_with_month_org])"
   ]
  },
  {
   "cell_type": "markdown",
   "metadata": {},
   "source": [
    "## Interest impact using standard allocation"
   ]
  },
  {
   "cell_type": "code",
   "execution_count": 312,
   "metadata": {},
   "outputs": [
    {
     "name": "stdout",
     "output_type": "stream",
     "text": [
      "Allocation: [(16, 1), (6, 3), (6, 3), (6, 3), (6, 3), (6, 3), (6, 3), (6, 2), (6, 2), (6, 2), (6, 2), (6, 2), (8, 2), (8, 7), (1, 7), (1, 1)]\n",
      "1438757.3333333335\n",
      "Initial Loan borrow Interest: 2797.078000000001\n",
      "Initial Loan: 438757.3333333335, Initial Invest: 1000000 \n",
      "Curr Loan:  789454.43, Curr Self:  1188836.90 QLBlock: 350697.10, Qself(0.35):  188836.90, QInt:  15098.32, MPay:  5032.77\n",
      "Curr Loan:  1140151.53, Curr Self:  1377673.80 QLBlock: 350697.10, Qself(0.35):  188836.90, QInt:  21805.40, MPay:  7268.47\n",
      "Curr Loan:  1490848.63, Curr Self:  1566510.70 QLBlock: 350697.10, Qself(0.35):  188836.90, QInt:  28512.48, MPay:  9504.16\n",
      "Curr Loan:  1841545.73, Curr Self:  1755347.60 QLBlock: 350697.10, Qself(0.35):  188836.90, QInt:  35219.56, MPay:  11739.85\n",
      "Curr Loan:  2192242.83, Curr Self:  1944184.50 QLBlock: 350697.10, Qself(0.35):  188836.90, QInt:  41926.64, MPay:  13975.55\n",
      "Curr Loan:  2542939.93, Curr Self:  2133021.40 QLBlock: 350697.10, Qself(0.35):  188836.90, QInt:  48633.73, MPay:  16211.24\n",
      "Curr Loan:  2893637.03, Curr Self:  2321858.30 QLBlock: 350697.10, Qself(0.35):  188836.90, QInt:  36893.87, MPay:  18446.94\n",
      "Curr Loan:  3244334.13, Curr Self:  2510695.20 QLBlock: 350697.10, Qself(0.35):  188836.90, QInt:  41365.26, MPay:  20682.63\n",
      "Curr Loan:  3595031.23, Curr Self:  2699532.10 QLBlock: 350697.10, Qself(0.35):  188836.90, QInt:  45836.65, MPay:  22918.32\n",
      "Curr Loan:  3945728.33, Curr Self:  2888369.00 QLBlock: 350697.10, Qself(0.35):  188836.90, QInt:  50308.04, MPay:  25154.02\n",
      "Curr Loan:  4296425.43, Curr Self:  3077205.90 QLBlock: 350697.10, Qself(0.35):  188836.90, QInt:  54779.42, MPay:  27389.71\n",
      "Curr Loan:  4764021.57, Curr Self:  3328988.43 QLBlock: 467596.13, Qself(0.35):  251782.53, QInt:  60741.27, MPay:  30370.64\n",
      "Curr Loan:  5231617.70, Curr Self:  3580770.97 QLBlock: 467596.13, Qself(0.35):  251782.53, QInt:  233460.94, MPay:  33351.56\n",
      "Curr Loan:  5290067.22, Curr Self:  3612243.78 QLBlock: 58449.52, Qself(0.35):  31472.82, QInt:  236069.25, MPay:  33724.18\n",
      "Curr Loan:  5348516.73, Curr Self:  3643716.60 QLBlock: 58449.52, Qself(0.35):  31472.82, QInt:  34096.79, MPay:  34096.79\n",
      "\n",
      "Loan: 8992233.333333334, Total pre-emi interest: 987544.7044687504, principle: 5348516.733333335, self: 3643716.5999999987, self Priciple + Interest: 4631261.304468749\n"
     ]
    }
   ],
   "source": [
    "int_blocks = pre_emi_calculation(\n",
    "    exp_loan_amount=loan_amount,\n",
    "    allocation=alloc_with_month,\n",
    "    interest=7.65,\n",
    "    pay_int=True,\n",
    "    block_cont_ratio=0.35, special=True, special_amount=1000000)"
   ]
  },
  {
   "cell_type": "code",
   "execution_count": 314,
   "metadata": {},
   "outputs": [
    {
     "name": "stdout",
     "output_type": "stream",
     "text": [
      "Allocation: [(36, 1), (6, 3), (6, 3), (6, 3), (6, 3), (6, 3), (6, 3), (6, 2), (6, 2), (6, 2), (3, 4), (3, 3), (2, 6), (1, 6), (1, 1)]\n",
      "3237204.0\n",
      "Initial Loan borrow Interest: 14262.1755\n",
      "Initial Loan: 2237204.0, Initial Invest: 1000000 \n",
      "Curr Loan:  2587901.10, Curr Self:  1188836.90 QLBlock: 350697.10, Qself(0.35):  188836.90, QInt:  49493.61, MPay:  16497.87\n",
      "Curr Loan:  2938598.20, Curr Self:  1377673.80 QLBlock: 350697.10, Qself(0.35):  188836.90, QInt:  56200.69, MPay:  18733.56\n",
      "Curr Loan:  3289295.30, Curr Self:  1566510.70 QLBlock: 350697.10, Qself(0.35):  188836.90, QInt:  62907.77, MPay:  20969.26\n",
      "Curr Loan:  3639992.40, Curr Self:  1755347.60 QLBlock: 350697.10, Qself(0.35):  188836.90, QInt:  69614.85, MPay:  23204.95\n",
      "Curr Loan:  3990689.50, Curr Self:  1944184.50 QLBlock: 350697.10, Qself(0.35):  188836.90, QInt:  76321.94, MPay:  25440.65\n",
      "Curr Loan:  4341386.60, Curr Self:  2133021.40 QLBlock: 350697.10, Qself(0.35):  188836.90, QInt:  83029.02, MPay:  27676.34\n",
      "Curr Loan:  4692083.70, Curr Self:  2321858.30 QLBlock: 350697.10, Qself(0.35):  188836.90, QInt:  59824.07, MPay:  29912.03\n",
      "Curr Loan:  5042780.80, Curr Self:  2510695.20 QLBlock: 350697.10, Qself(0.35):  188836.90, QInt:  64295.46, MPay:  32147.73\n",
      "Curr Loan:  5393477.90, Curr Self:  2699532.10 QLBlock: 350697.10, Qself(0.35):  188836.90, QInt:  68766.84, MPay:  34383.42\n",
      "Curr Loan:  5568826.45, Curr Self:  2793950.55 QLBlock: 175348.55, Qself(0.35):  94418.45, QInt:  142005.07, MPay:  35501.27\n",
      "Curr Loan:  5744175.00, Curr Self:  2888369.00 QLBlock: 175348.55, Qself(0.35):  94418.45, QInt:  109857.35, MPay:  36619.12\n",
      "Curr Loan:  5861074.03, Curr Self:  2951314.63 QLBlock: 116899.03, Qself(0.35):  62945.63, QInt:  224186.08, MPay:  37364.35\n",
      "Curr Loan:  5919523.55, Curr Self:  2982787.45 QLBlock: 58449.52, Qself(0.35):  31472.82, QInt:  226421.78, MPay:  37736.96\n",
      "Curr Loan:  5977973.07, Curr Self:  3014260.27 QLBlock: 58449.52, Qself(0.35):  31472.82, QInt:  38109.58, MPay:  38109.58\n",
      "\n",
      "Loan: 8992233.333333334, Total pre-emi interest: 1345296.2800999999, principle: 5977973.0666666655, self: 3014260.2666666685, self Priciple + Interest: 4359556.546766669\n"
     ]
    }
   ],
   "source": [
    "int_blocks = pre_emi_calculation(\n",
    "    exp_loan_amount=loan_amount,\n",
    "    allocation=alloc_with_month_org,\n",
    "    interest=7.65,\n",
    "    pay_int=True,\n",
    "    block_cont_ratio=0.35, special=True, special_amount=1000000)"
   ]
  },
  {
   "cell_type": "code",
   "execution_count": 267,
   "metadata": {},
   "outputs": [
    {
     "data": {
      "text/plain": [
       "1394614.4599000001"
      ]
     },
     "execution_count": 267,
     "metadata": {},
     "output_type": "execute_result"
    }
   ],
   "source": [
    "sum([i[0] for i in zip(int_blocks, [i[1] for i in alloc_with_month])])"
   ]
  },
  {
   "cell_type": "code",
   "execution_count": 309,
   "metadata": {},
   "outputs": [
    {
     "data": {
      "text/plain": [
       "37810.43862715015"
      ]
     },
     "execution_count": 309,
     "metadata": {},
     "output_type": "execute_result"
    }
   ],
   "source": [
    "ipm = lambda pr, interest: ((pr * interest) / 100) / 12\n",
    "maxgain_ipm = lambda pr, interest, deposit: ipm(pr - deposit, interest)\n",
    "\n",
    "ipm(5671565.794072523, 8.0)"
   ]
  },
  {
   "cell_type": "code",
   "execution_count": 311,
   "metadata": {},
   "outputs": [
    {
     "data": {
      "text/plain": [
       "36477.10529381682"
      ]
     },
     "execution_count": 311,
     "metadata": {},
     "output_type": "execute_result"
    }
   ],
   "source": [
    "maxgain_ipm(5671565.794072523, 8.0, 200000)"
   ]
  },
  {
   "cell_type": "markdown",
   "metadata": {},
   "source": [
    "# Simple interest vs compounding interest"
   ]
  },
  {
   "cell_type": "code",
   "execution_count": null,
   "metadata": {},
   "outputs": [],
   "source": []
  },
  {
   "cell_type": "code",
   "execution_count": 372,
   "metadata": {},
   "outputs": [],
   "source": [
    "def calculate_si_emi(principle, emi, tensure):\n",
    "    pass\n",
    "\n",
    "\n",
    "def calculate_ci_emi(principle, interest, tenure):\n",
    "    \"\"\"\n",
    "    EMI = P × r × (1 + r)n/((1 + r)n - 1) \n",
    "    where P= Loan amount, r= interest rate, n=tenure in number of months.\n",
    "    \n",
    "    @param principle: Total loan amount.\n",
    "    @param interest: In percentage format.\n",
    "    @param tenure: Year.\n",
    "    \"\"\"\n",
    "    p = principle\n",
    "    \n",
    "    # Interest per month.\n",
    "    r = interest / 100 / 12\n",
    "    n = tenure * 12\n",
    "    \n",
    "    den = (1 + r) ** n\n",
    "    #print (r, den, den/(den-1))\n",
    "    \n",
    "    return p * r * den / (den - 1)\n",
    "\n",
    "\n",
    "def maxigain_interest():\n",
    "    pass\n",
    "\n",
    "\n",
    "def calculate_emi(principle, interest=7.65, simple=False, tenure=15):\n",
    "    \"\"\"\n",
    "    For a given principle calculate the interest, compound vs simple.\n",
    "    \"\"\"\n",
    "    pass"
   ]
  },
  {
   "cell_type": "code",
   "execution_count": 376,
   "metadata": {},
   "outputs": [
    {
     "data": {
      "text/plain": [
       "46777.839406314546"
      ]
     },
     "execution_count": 376,
     "metadata": {},
     "output_type": "execute_result"
    }
   ],
   "source": [
    "calculate_ci_emi(5000000, 7.65, 15)"
   ]
  },
  {
   "cell_type": "code",
   "execution_count": 357,
   "metadata": {},
   "outputs": [
    {
     "data": {
      "text/plain": [
       "3825006.6085478836"
      ]
     },
     "execution_count": 357,
     "metadata": {},
     "output_type": "execute_result"
    }
   ],
   "source": [
    "5000000 * 0.765 * 1.000001727724937"
   ]
  },
  {
   "cell_type": "code",
   "execution_count": 360,
   "metadata": {},
   "outputs": [
    {
     "data": {
      "text/plain": [
       "1.0000000000000016"
      ]
     },
     "execution_count": 360,
     "metadata": {},
     "output_type": "execute_result"
    }
   ],
   "source": [
    "1.765 ** 60 / (1.765 ** 60 - 1)"
   ]
  },
  {
   "cell_type": "code",
   "execution_count": 364,
   "metadata": {},
   "outputs": [
    {
     "data": {
      "text/plain": [
       "965.0216450740089"
      ]
     },
     "execution_count": 364,
     "metadata": {},
     "output_type": "execute_result"
    }
   ],
   "source": [
    "(100000 * (10/1200) * (1+(10/1200))**240) / ((1+(10/1200))**240 - 1)"
   ]
  },
  {
   "cell_type": "markdown",
   "metadata": {},
   "source": [
    "# TODO\n",
    "\n",
    "1. Compare the flexi-pay interest scheme and normal\n",
    "2. EMI and number of years.\n",
    "3. Simple interest calculation."
   ]
  },
  {
   "cell_type": "markdown",
   "metadata": {},
   "source": [
    "1. If project extends by an month will cause per month interest on the release amount accumulates.\n",
    "2. If loan plans aren't great, we may stop as going with enough liquid cash helps with the interest handling. May be close to 40% of the total value.\n",
    "3. Backout if the loan plans aren't that great."
   ]
  }
 ],
 "metadata": {
  "kernelspec": {
   "display_name": "Python 3",
   "language": "python",
   "name": "python3"
  },
  "language_info": {
   "codemirror_mode": {
    "name": "ipython",
    "version": 3
   },
   "file_extension": ".py",
   "mimetype": "text/x-python",
   "name": "python",
   "nbconvert_exporter": "python",
   "pygments_lexer": "ipython3",
   "version": "3.7.7"
  }
 },
 "nbformat": 4,
 "nbformat_minor": 4
}
