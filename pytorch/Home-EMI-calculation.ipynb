{
 "cells": [
  {
   "cell_type": "markdown",
   "metadata": {},
   "source": [
    "# Loan pre-payment analysis\n",
    "\n",
    "Create Date: 08/June/2020\n",
    "Last updated: \n",
    "\n",
    "Home Loan repayment analysis before even starting the EMI\n",
    "\n",
    "\n",
    "### re-payment schedule\n",
    "\n",
    "1. private firm till 60 age loan re-payment.\n",
    "2. Gov job till age 70 repayment possible.\n",
    "\n",
    "\n",
    "### Loan eligibility check on 08/jun/2020\n",
    "\n",
    "SBI is ready to give upto 80%.\n",
    "\n",
    "\n",
    "https://cleartax.in/s/home-loan-tax-benefit"
   ]
  },
  {
   "cell_type": "code",
   "execution_count": null,
   "metadata": {},
   "outputs": [],
   "source": []
  },
  {
   "cell_type": "code",
   "execution_count": 1,
   "metadata": {},
   "outputs": [],
   "source": [
    "# Basic constants involved.\n",
    "sqft = 1600\n",
    "price_sqft = 5100\n",
    "car_charge = 350000\n",
    "\n",
    "# Total price of an asset without any tax or other charges.\n",
    "total_asset_value = sqft * price_sqft + car_charge\n",
    "\n",
    "# 1% cess extra\n",
    "gst_f = lambda x: (x / 100) * (7.5 + 1)\n",
    "\n",
    "land_value_f = lambda total_v: total_v * (1/3)\n",
    "const_cost_f = lambda total_v: total_v * (2/3)\n",
    "reg_f = lambda land_v: (land_v / 100 ) * 7.0\n",
    "\n",
    "gst = gst_f(const_cost_f(total_asset_value))\n",
    "reg_charge = reg_f(land_value_f(total_asset_value))"
   ]
  },
  {
   "cell_type": "code",
   "execution_count": 22,
   "metadata": {},
   "outputs": [
    {
     "data": {
      "text/plain": [
       "2836666.6666666665"
      ]
     },
     "execution_count": 22,
     "metadata": {},
     "output_type": "execute_result"
    }
   ],
   "source": [
    "land_value_f(total_asset_value)"
   ]
  },
  {
   "cell_type": "code",
   "execution_count": 143,
   "metadata": {},
   "outputs": [
    {
     "data": {
      "text/plain": [
       "5673333.333333333"
      ]
     },
     "execution_count": 143,
     "metadata": {},
     "output_type": "execute_result"
    }
   ],
   "source": [
    "const_cost_f(total_asset_value)"
   ]
  },
  {
   "cell_type": "code",
   "execution_count": 158,
   "metadata": {},
   "outputs": [
    {
     "name": "stdout",
     "output_type": "stream",
     "text": [
      "Gst for construction: 482233.3333333333\n"
     ]
    }
   ],
   "source": [
    "print(f\"Gst for construction: {gst}\")"
   ]
  },
  {
   "cell_type": "code",
   "execution_count": 34,
   "metadata": {},
   "outputs": [
    {
     "data": {
      "text/plain": [
       "9390800.0"
      ]
     },
     "execution_count": 34,
     "metadata": {},
     "output_type": "execute_result"
    }
   ],
   "source": [
    "grant_total = total_asset_value + gst + reg_charge + 200000\n",
    "grant_total"
   ]
  },
  {
   "cell_type": "code",
   "execution_count": 20,
   "metadata": {},
   "outputs": [],
   "source": [
    "loan_amount = total_asset_value + gst"
   ]
  },
  {
   "cell_type": "code",
   "execution_count": 25,
   "metadata": {},
   "outputs": [
    {
     "data": {
      "text/plain": [
       "8992233.333333334"
      ]
     },
     "execution_count": 25,
     "metadata": {},
     "output_type": "execute_result"
    }
   ],
   "source": [
    "# loan_amount * (8/10)\n",
    "loan_amount"
   ]
  },
  {
   "cell_type": "code",
   "execution_count": 4,
   "metadata": {},
   "outputs": [],
   "source": [
    "co_pay = loan_amount / 4\n",
    "exp_loan_amount = loan_amount * ( 3 /4)"
   ]
  },
  {
   "cell_type": "code",
   "execution_count": 19,
   "metadata": {},
   "outputs": [
    {
     "data": {
      "text/plain": [
       "6744175.0"
      ]
     },
     "execution_count": 19,
     "metadata": {},
     "output_type": "execute_result"
    }
   ],
   "source": [
    "exp_loan_amount"
   ]
  },
  {
   "cell_type": "code",
   "execution_count": 66,
   "metadata": {},
   "outputs": [],
   "source": [
    "# percentage allocation quarterly for under-construction items.\n",
    "allocation = [36, 6, 6, 6, 6, 6, 6, 6, 6, 6, 3, 3, 2, 1, 1]\n",
    "\n",
    "allocation = [16, 6, 6, 6, 6, 6, 6, 6, 6, 6, 6, 6, 6, 6, 6]"
   ]
  },
  {
   "cell_type": "code",
   "execution_count": 5,
   "metadata": {},
   "outputs": [],
   "source": [
    "# Initial allocation of 36%\n",
    "# \n",
    "alloc1 = loan_amount * (36 / 100)\n",
    "copay1 = alloc1 / 4\n",
    "loan1 = alloc1 * (3/4)"
   ]
  },
  {
   "cell_type": "code",
   "execution_count": 231,
   "metadata": {},
   "outputs": [
    {
     "data": {
      "text/plain": [
       "(809301.0, 2427903.0, 6744175.0)"
      ]
     },
     "execution_count": 231,
     "metadata": {},
     "output_type": "execute_result"
    }
   ],
   "source": [
    "copay1, loan1, exp_loan_amount"
   ]
  },
  {
   "cell_type": "markdown",
   "metadata": {},
   "source": [
    "## Co-pay option for on-going projects"
   ]
  },
  {
   "cell_type": "code",
   "execution_count": 56,
   "metadata": {},
   "outputs": [],
   "source": [
    "def pre_emi_calculation(exp_loan_amount,\n",
    "          allocation,\n",
    "          block_cont_ratio=0.25,\n",
    "          interest=8.0, init_full=False, special=False):\n",
    "    \"\"\"Quarter wise interest calculation with co-payment option.\n",
    "    \n",
    "    Only interest will be calculated till the building is done.\n",
    "    \n",
    "    \"\"\"\n",
    "    \n",
    "    # Special schema based on custom division.\n",
    "    if special:\n",
    "        init_block = exp_loan_amount * (16 / 100)\n",
    "        init_self = 1000000\n",
    "        init_loan = init_block - init_self\n",
    "        base_int = (init_loan * (interest / 100)) / 12\n",
    "    else:\n",
    "        init_alp = allocation[0]\n",
    "        init_block = exp_loan_amount * (init_alp / 100)\n",
    "        init_loan = init_block * (1 - block_cont_ratio)\n",
    "        init_self = init_block * (block_cont_ratio)\n",
    "        base_int = (init_loan * (interest / 100)) / 12\n",
    "    \n",
    "    if init_full:\n",
    "        total = 0\n",
    "        curr_loan = 0\n",
    "        curr_self = init_block\n",
    "    else:\n",
    "        total = base_int\n",
    "        curr_loan = init_loan\n",
    "        curr_self = init_self\n",
    "        \n",
    "    print(f\"Initial Loan borrow Interest: {base_int}\")\n",
    "    print(f\"Initial Loan: {curr_loan}, Initial Invest: {curr_self} \")\n",
    "    \n",
    "    block_interest = []\n",
    "    allocs = allocation[1:]\n",
    "    for alloc in allocs:\n",
    "        next_blok = exp_loan_amount * (alloc / 100)\n",
    "        # 75% vs 25%\n",
    "        next_loan_part = next_blok * (1 - block_cont_ratio)\n",
    "        next_self_part = next_blok * block_cont_ratio\n",
    "        curr_self += next_self_part\n",
    "        curr_loan += next_loan_part\n",
    "        base_int = (curr_loan * (interest / 100)) / 12\n",
    "        \n",
    "        # Monthly payments\n",
    "        # 1. interest for already dispersed \n",
    "        # 2. Accumulate for next installment.\n",
    "        print(f\"Curr Loan: {curr_loan: .2f}, Curr Self: {curr_self : .2f} QLBlock: {next_loan_part :.2f}, Qself({block_cont_ratio :.2f}): {next_self_part : .2f}, QInt: {base_int * 3 : .2f}, MPay: {base_int : .2f}\")\n",
    "        total += base_int * 3\n",
    "        block_interest.append(base_int * 3)\n",
    "        \n",
    "    print(f\"\\nTotal pre-emi interest: {total}, principle: {curr_loan}\")\n",
    "    return block_interest\n",
    "    "
   ]
  },
  {
   "cell_type": "code",
   "execution_count": 62,
   "metadata": {},
   "outputs": [
    {
     "data": {
      "text/plain": [
       "8992233.333333334"
      ]
     },
     "execution_count": 62,
     "metadata": {},
     "output_type": "execute_result"
    }
   ],
   "source": [
    "# 1000000 - (loan_amount * (16 / 100))\n",
    "loan_amount"
   ]
  },
  {
   "cell_type": "code",
   "execution_count": 71,
   "metadata": {},
   "outputs": [
    {
     "name": "stdout",
     "output_type": "stream",
     "text": [
      "Initial Loan borrow Interest: 2797.078000000001\n",
      "Initial Loan: 438757.3333333335, Initial Invest: 1000000 \n",
      "Curr Loan:  762477.73, Curr Self:  1215813.60 QLBlock: 323720.40, Qself(0.40):  215813.60, QInt:  14582.39, MPay:  4860.80\n",
      "Curr Loan:  1086198.13, Curr Self:  1431627.20 QLBlock: 323720.40, Qself(0.40):  215813.60, QInt:  20773.54, MPay:  6924.51\n",
      "Curr Loan:  1409918.53, Curr Self:  1647440.80 QLBlock: 323720.40, Qself(0.40):  215813.60, QInt:  26964.69, MPay:  8988.23\n",
      "Curr Loan:  1733638.93, Curr Self:  1863254.40 QLBlock: 323720.40, Qself(0.40):  215813.60, QInt:  33155.84, MPay:  11051.95\n",
      "Curr Loan:  2057359.33, Curr Self:  2079068.00 QLBlock: 323720.40, Qself(0.40):  215813.60, QInt:  39347.00, MPay:  13115.67\n",
      "Curr Loan:  2381079.73, Curr Self:  2294881.60 QLBlock: 323720.40, Qself(0.40):  215813.60, QInt:  45538.15, MPay:  15179.38\n",
      "Curr Loan:  2704800.13, Curr Self:  2510695.20 QLBlock: 323720.40, Qself(0.40):  215813.60, QInt:  51729.30, MPay:  17243.10\n",
      "Curr Loan:  3028520.53, Curr Self:  2726508.80 QLBlock: 323720.40, Qself(0.40):  215813.60, QInt:  57920.46, MPay:  19306.82\n",
      "Curr Loan:  3352240.93, Curr Self:  2942322.40 QLBlock: 323720.40, Qself(0.40):  215813.60, QInt:  64111.61, MPay:  21370.54\n",
      "Curr Loan:  3675961.33, Curr Self:  3158136.00 QLBlock: 323720.40, Qself(0.40):  215813.60, QInt:  70302.76, MPay:  23434.25\n",
      "Curr Loan:  3999681.73, Curr Self:  3373949.60 QLBlock: 323720.40, Qself(0.40):  215813.60, QInt:  76493.91, MPay:  25497.97\n",
      "Curr Loan:  4323402.13, Curr Self:  3589763.20 QLBlock: 323720.40, Qself(0.40):  215813.60, QInt:  82685.07, MPay:  27561.69\n",
      "Curr Loan:  4647122.53, Curr Self:  3805576.80 QLBlock: 323720.40, Qself(0.40):  215813.60, QInt:  88876.22, MPay:  29625.41\n",
      "Curr Loan:  4970842.93, Curr Self:  4021390.40 QLBlock: 323720.40, Qself(0.40):  215813.60, QInt:  95067.37, MPay:  31689.12\n",
      "\n",
      "Total pre-emi interest: 770345.3822499999, principle: 4970842.933333334\n"
     ]
    }
   ],
   "source": [
    "int_blocks = pre_emi_calculation(\n",
    "    exp_loan_amount=loan_amount,\n",
    "    allocation=allocation,\n",
    "    interest=7.65,\n",
    "    block_cont_ratio=0.4, special=True)"
   ]
  },
  {
   "cell_type": "code",
   "execution_count": 12,
   "metadata": {},
   "outputs": [
    {
     "name": "stdout",
     "output_type": "stream",
     "text": [
      "Initial Loan borrow Interest: 15009.300000000001\n",
      "Initial Loan: 0, Initial Invest: 3139200.0 \n",
      "Curr Loan: 392400.0, Curr Self: 3270000.0 QLBlock: 392400.0, Qself(0.25): 130800.0, QInt: 7504.65, MPay: 2501.5499999999997\n",
      "Curr Loan: 784800.0, Curr Self: 3400800.0 QLBlock: 392400.0, Qself(0.25): 130800.0, QInt: 15009.3, MPay: 5003.099999999999\n",
      "Curr Loan: 1177200.0, Curr Self: 3531600.0 QLBlock: 392400.0, Qself(0.25): 130800.0, QInt: 22513.95, MPay: 7504.650000000001\n",
      "Curr Loan: 1569600.0, Curr Self: 3662400.0 QLBlock: 392400.0, Qself(0.25): 130800.0, QInt: 30018.6, MPay: 10006.199999999999\n",
      "Curr Loan: 1962000.0, Curr Self: 3793200.0 QLBlock: 392400.0, Qself(0.25): 130800.0, QInt: 37523.25, MPay: 12507.75\n",
      "Curr Loan: 2354400.0, Curr Self: 3924000.0 QLBlock: 392400.0, Qself(0.25): 130800.0, QInt: 45027.9, MPay: 15009.300000000001\n",
      "Curr Loan: 2746800.0, Curr Self: 4054800.0 QLBlock: 392400.0, Qself(0.25): 130800.0, QInt: 52532.549999999996, MPay: 17510.85\n",
      "Curr Loan: 3139200.0, Curr Self: 4185600.0 QLBlock: 392400.0, Qself(0.25): 130800.0, QInt: 60037.2, MPay: 20012.399999999998\n",
      "Curr Loan: 3531600.0, Curr Self: 4316400.0 QLBlock: 392400.0, Qself(0.25): 130800.0, QInt: 67541.85, MPay: 22513.95\n",
      "Curr Loan: 3727800.0, Curr Self: 4381800.0 QLBlock: 196200.0, Qself(0.25): 65400.0, QInt: 71294.175, MPay: 23764.725000000002\n",
      "Curr Loan: 3924000.0, Curr Self: 4447200.0 QLBlock: 196200.0, Qself(0.25): 65400.0, QInt: 75046.5, MPay: 25015.5\n",
      "Curr Loan: 4054800.0, Curr Self: 4490800.0 QLBlock: 130800.0, Qself(0.25): 43600.0, QInt: 77548.05, MPay: 25849.350000000002\n",
      "Curr Loan: 4120200.0, Curr Self: 4512600.0 QLBlock: 65400.0, Qself(0.25): 21800.0, QInt: 78798.825, MPay: 26266.274999999998\n",
      "Curr Loan: 4185600.0, Curr Self: 4534400.0 QLBlock: 65400.0, Qself(0.25): 21800.0, QInt: 80049.59999999999, MPay: 26683.199999999997\n",
      "\n",
      "Total pre-emi interest: 720446.3999999999, principle: 4185600.0\n"
     ]
    }
   ],
   "source": [
    "int_blocks = pre_emi_calculation(\n",
    "    exp_loan_amount=5450 * 1600,\n",
    "    allocation=allocation,\n",
    "    interest=7.65,\n",
    "    block_cont_ratio=0.250,\n",
    "    init_full=True\n",
    ")"
   ]
  },
  {
   "cell_type": "code",
   "execution_count": 15,
   "metadata": {},
   "outputs": [],
   "source": [
    "# total_asset_value * (36 / 100)\n",
    "# 5232000.0 * (7.5 / 100) / 12"
   ]
  },
  {
   "cell_type": "code",
   "execution_count": 14,
   "metadata": {},
   "outputs": [],
   "source": [
    "# 37990.7675 + 15000\n",
    "# 2200000 / 8"
   ]
  },
  {
   "cell_type": "markdown",
   "metadata": {},
   "source": [
    "1. If project extends by an month will cause per month interest on the release amount accumulates.\n",
    "2. If loan plans aren't great, we may stop as going with enough liquid cash helps with the interest handling. May be close to 40% of the total value.\n",
    "3. Backout if the loan plans aren't that great.\n",
    "4. "
   ]
  }
 ],
 "metadata": {
  "kernelspec": {
   "display_name": "Python 3",
   "language": "python",
   "name": "python3"
  },
  "language_info": {
   "codemirror_mode": {
    "name": "ipython",
    "version": 3
   },
   "file_extension": ".py",
   "mimetype": "text/x-python",
   "name": "python",
   "nbconvert_exporter": "python",
   "pygments_lexer": "ipython3",
   "version": "3.7.7"
  }
 },
 "nbformat": 4,
 "nbformat_minor": 4
}
