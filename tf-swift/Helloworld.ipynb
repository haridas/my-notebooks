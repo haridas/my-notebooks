{
 "cells": [
  {
   "cell_type": "code",
   "execution_count": 2,
   "metadata": {},
   "outputs": [],
   "source": [
    "import TensorFlow"
   ]
  },
  {
   "cell_type": "code",
   "execution_count": 2,
   "metadata": {},
   "outputs": [],
   "source": [
    "#if canImport(PythonKit)\n",
    "    import PythonKit\n",
    "#else\n",
    "    import Python\n",
    "#endif"
   ]
  },
  {
   "cell_type": "code",
   "execution_count": 15,
   "metadata": {},
   "outputs": [],
   "source": [
    "%include \"/mnt1/haridas/projects/opensource/swift-jupyter/EnableJupyterDisplay.swift\"\n",
    "// let plt = Python.import(\"pyplot\")"
   ]
  },
  {
   "cell_type": "code",
   "execution_count": 3,
   "metadata": {},
   "outputs": [],
   "source": [
    "var x = Tensor<Float>([[1, 2], [3, 4]])"
   ]
  },
  {
   "cell_type": "code",
   "execution_count": 16,
   "metadata": {},
   "outputs": [
    {
     "name": "stdout",
     "output_type": "stream",
     "text": [
      "Fatal error: 'try!' expression unexpectedly raised an error: Python exception: No module named 'numpy': file /swift-base/PythonKit/PythonKit/Python.swift, line 673\n",
      "Current stack trace:\n",
      "0    libswiftCore.so                    0x00007f2800bb3160 swift_reportError + 50\n",
      "1    libswiftCore.so                    0x00007f2800c25c20 _swift_stdlib_reportFatalErrorInFile + 115\n",
      "2    libswiftCore.so                    0x00007f28008cacb5 <unavailable> + 1506485\n",
      "3    libswiftCore.so                    0x00007f28008ca8f7 <unavailable> + 1505527\n",
      "4    libswiftCore.so                    0x00007f28008cae92 <unavailable> + 1506962\n",
      "5    libswiftCore.so                    0x00007f28008c92e0 _assertionFailure(_:_:file:line:flags:) + 517\n",
      "6    libswiftCore.so                    0x00007f28009137b9 <unavailable> + 1804217\n",
      "7    libPythonKit.so                    0x00007f280173c99f <unavailable> + 92575\n"
     ]
    },
    {
     "ename": "",
     "evalue": "",
     "execution_count": 16,
     "output_type": "error",
     "status": "error",
     "traceback": [
      "Current stack trace:",
      "\tframe #3: \u001b[33m0x00007f2801584b22\u001b[0m $__lldb_expr126`main at \u001b[36m<Cell 16>\u001b[0m:\u001b[33m1\u001b[0m:\u001b[33m17\u001b[0m"
     ]
    }
   ],
   "source": [
    "let np = Python.import(\"numpy\")"
   ]
  }
 ],
 "metadata": {
  "kernelspec": {
   "display_name": "Swift",
   "language": "swift",
   "name": "swift"
  },
  "language_info": {
   "file_extension": ".swift",
   "mimetype": "text/x-swift",
   "name": "swift",
   "version": ""
  }
 },
 "nbformat": 4,
 "nbformat_minor": 4
}
