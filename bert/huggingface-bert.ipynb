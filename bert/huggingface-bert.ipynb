{
 "cells": [
  {
   "cell_type": "markdown",
   "metadata": {},
   "source": [
    "# Bert tutorial using huggingface pytorch library"
   ]
  },
  {
   "cell_type": "code",
   "execution_count": 3,
   "metadata": {},
   "outputs": [],
   "source": [
    "import torch\n",
    "from transformers import (pipeline, BertTokenizer, BertModel, BertConfig,\n",
    "                          BertForNextSentencePrediction,\n",
    "                          BertForSequenceClassification,\n",
    "                          BertForTokenClassification,\n",
    "                          BertForQuestionAnswering\n",
    "                         )"
   ]
  },
  {
   "cell_type": "code",
   "execution_count": null,
   "metadata": {},
   "outputs": [
    {
     "name": "stderr",
     "output_type": "stream",
     "text": [
      "I0525 06:46:08.195096 139846855460672 filelock.py:274] Lock 139842528611016 acquired on /home/haridas/.cache/torch/transformers/90deb4d9dd705272dc4b3db1364d759d551d72a9f70a91f60e3a1f5e278b985d.9019d8d0ae95e32b896211ae7ae130d7c36bb19ccf35c90a9e51923309458f70.lock\n",
      "I0525 06:46:08.197701 139846855460672 file_utils.py:436] https://s3.amazonaws.com/models.huggingface.co/bert/bert-large-cased-config.json not found in cache or force_download set to True, downloading to /home/haridas/.cache/torch/transformers/tmpw86204qi\n"
     ]
    },
    {
     "data": {
      "application/vnd.jupyter.widget-view+json": {
       "model_id": "905e6185eab1482bacc1f957d457be95",
       "version_major": 2,
       "version_minor": 0
      },
      "text/plain": [
       "HBox(children=(FloatProgress(value=0.0, description='Downloading', max=625.0, style=ProgressStyle(description_…"
      ]
     },
     "metadata": {},
     "output_type": "display_data"
    },
    {
     "name": "stderr",
     "output_type": "stream",
     "text": [
      "I0525 06:46:09.693573 139846855460672 file_utils.py:440] storing https://s3.amazonaws.com/models.huggingface.co/bert/bert-large-cased-config.json in cache at /home/haridas/.cache/torch/transformers/90deb4d9dd705272dc4b3db1364d759d551d72a9f70a91f60e3a1f5e278b985d.9019d8d0ae95e32b896211ae7ae130d7c36bb19ccf35c90a9e51923309458f70\n",
      "I0525 06:46:09.695026 139846855460672 file_utils.py:443] creating metadata file for /home/haridas/.cache/torch/transformers/90deb4d9dd705272dc4b3db1364d759d551d72a9f70a91f60e3a1f5e278b985d.9019d8d0ae95e32b896211ae7ae130d7c36bb19ccf35c90a9e51923309458f70\n",
      "I0525 06:46:09.696721 139846855460672 filelock.py:318] Lock 139842528611016 released on /home/haridas/.cache/torch/transformers/90deb4d9dd705272dc4b3db1364d759d551d72a9f70a91f60e3a1f5e278b985d.9019d8d0ae95e32b896211ae7ae130d7c36bb19ccf35c90a9e51923309458f70.lock\n",
      "I0525 06:46:09.697899 139846855460672 configuration_utils.py:285] loading configuration file https://s3.amazonaws.com/models.huggingface.co/bert/bert-large-cased-config.json from cache at /home/haridas/.cache/torch/transformers/90deb4d9dd705272dc4b3db1364d759d551d72a9f70a91f60e3a1f5e278b985d.9019d8d0ae95e32b896211ae7ae130d7c36bb19ccf35c90a9e51923309458f70\n",
      "I0525 06:46:09.699062 139846855460672 configuration_utils.py:321] Model config BertConfig {\n",
      "  \"architectures\": [\n",
      "    \"BertForMaskedLM\"\n",
      "  ],\n",
      "  \"attention_probs_dropout_prob\": 0.1,\n",
      "  \"directionality\": \"bidi\",\n",
      "  \"hidden_act\": \"gelu\",\n",
      "  \"hidden_dropout_prob\": 0.1,\n",
      "  \"hidden_size\": 1024,\n",
      "  \"initializer_range\": 0.02,\n",
      "  \"intermediate_size\": 4096,\n",
      "  \"layer_norm_eps\": 1e-12,\n",
      "  \"max_position_embeddings\": 512,\n",
      "  \"model_type\": \"bert\",\n",
      "  \"num_attention_heads\": 16,\n",
      "  \"num_hidden_layers\": 24,\n",
      "  \"pad_token_id\": 0,\n",
      "  \"pooler_fc_size\": 768,\n",
      "  \"pooler_num_attention_heads\": 12,\n",
      "  \"pooler_num_fc_layers\": 3,\n",
      "  \"pooler_size_per_head\": 128,\n",
      "  \"pooler_type\": \"first_token_transform\",\n",
      "  \"type_vocab_size\": 2,\n",
      "  \"vocab_size\": 28996\n",
      "}\n",
      "\n"
     ]
    },
    {
     "name": "stdout",
     "output_type": "stream",
     "text": [
      "\n"
     ]
    },
    {
     "name": "stderr",
     "output_type": "stream",
     "text": [
      "I0525 06:46:10.687374 139846855460672 filelock.py:274] Lock 139842528627736 acquired on /home/haridas/.cache/torch/transformers/cee054f6aafe5e2cf816d2228704e326446785f940f5451a5b26033516a4ac3d.e13dbb970cb325137104fb2e5f36fe865f27746c6b526f6352861b1980eb80b1.lock\n",
      "I0525 06:46:10.689900 139846855460672 file_utils.py:436] https://s3.amazonaws.com/models.huggingface.co/bert/bert-large-cased-vocab.txt not found in cache or force_download set to True, downloading to /home/haridas/.cache/torch/transformers/tmpoaseracw\n"
     ]
    },
    {
     "data": {
      "application/vnd.jupyter.widget-view+json": {
       "model_id": "3e05fee159c04aba815ae036e745e767",
       "version_major": 2,
       "version_minor": 0
      },
      "text/plain": [
       "HBox(children=(FloatProgress(value=0.0, description='Downloading', max=213450.0, style=ProgressStyle(descripti…"
      ]
     },
     "metadata": {},
     "output_type": "display_data"
    },
    {
     "name": "stderr",
     "output_type": "stream",
     "text": [
      "I0525 06:46:12.439737 139846855460672 file_utils.py:440] storing https://s3.amazonaws.com/models.huggingface.co/bert/bert-large-cased-vocab.txt in cache at /home/haridas/.cache/torch/transformers/cee054f6aafe5e2cf816d2228704e326446785f940f5451a5b26033516a4ac3d.e13dbb970cb325137104fb2e5f36fe865f27746c6b526f6352861b1980eb80b1\n",
      "I0525 06:46:12.441061 139846855460672 file_utils.py:443] creating metadata file for /home/haridas/.cache/torch/transformers/cee054f6aafe5e2cf816d2228704e326446785f940f5451a5b26033516a4ac3d.e13dbb970cb325137104fb2e5f36fe865f27746c6b526f6352861b1980eb80b1\n",
      "I0525 06:46:12.442286 139846855460672 filelock.py:318] Lock 139842528627736 released on /home/haridas/.cache/torch/transformers/cee054f6aafe5e2cf816d2228704e326446785f940f5451a5b26033516a4ac3d.e13dbb970cb325137104fb2e5f36fe865f27746c6b526f6352861b1980eb80b1.lock\n",
      "I0525 06:46:12.443029 139846855460672 tokenization_utils.py:1015] loading file https://s3.amazonaws.com/models.huggingface.co/bert/bert-large-cased-vocab.txt from cache at /home/haridas/.cache/torch/transformers/cee054f6aafe5e2cf816d2228704e326446785f940f5451a5b26033516a4ac3d.e13dbb970cb325137104fb2e5f36fe865f27746c6b526f6352861b1980eb80b1\n"
     ]
    },
    {
     "name": "stdout",
     "output_type": "stream",
     "text": [
      "\n"
     ]
    },
    {
     "name": "stderr",
     "output_type": "stream",
     "text": [
      "I0525 06:46:13.455157 139846855460672 filelock.py:274] Lock 139842528627792 acquired on /home/haridas/.cache/torch/transformers/a473a240b2bc0d94657042a1fa78159e6a4113d009e650000fa6a9d23aa06548.8309196c7882bd29c98bab9bde57c29e2c2c75cf29d7143d1d88ce0b25eafe63.lock\n",
      "I0525 06:46:13.457288 139846855460672 file_utils.py:436] https://s3.amazonaws.com/models.huggingface.co/bert/dbmdz/bert-large-cased-finetuned-conll03-english/config.json not found in cache or force_download set to True, downloading to /home/haridas/.cache/torch/transformers/tmp7rr4s7p4\n"
     ]
    },
    {
     "data": {
      "application/vnd.jupyter.widget-view+json": {
       "model_id": "148c62252d134d25b9e4278e2a7d9ee6",
       "version_major": 2,
       "version_minor": 0
      },
      "text/plain": [
       "HBox(children=(FloatProgress(value=0.0, description='Downloading', max=998.0, style=ProgressStyle(description_…"
      ]
     },
     "metadata": {},
     "output_type": "display_data"
    },
    {
     "name": "stderr",
     "output_type": "stream",
     "text": [
      "I0525 06:46:14.492258 139846855460672 file_utils.py:440] storing https://s3.amazonaws.com/models.huggingface.co/bert/dbmdz/bert-large-cased-finetuned-conll03-english/config.json in cache at /home/haridas/.cache/torch/transformers/a473a240b2bc0d94657042a1fa78159e6a4113d009e650000fa6a9d23aa06548.8309196c7882bd29c98bab9bde57c29e2c2c75cf29d7143d1d88ce0b25eafe63\n",
      "I0525 06:46:14.493627 139846855460672 file_utils.py:443] creating metadata file for /home/haridas/.cache/torch/transformers/a473a240b2bc0d94657042a1fa78159e6a4113d009e650000fa6a9d23aa06548.8309196c7882bd29c98bab9bde57c29e2c2c75cf29d7143d1d88ce0b25eafe63\n",
      "I0525 06:46:14.494969 139846855460672 filelock.py:318] Lock 139842528627792 released on /home/haridas/.cache/torch/transformers/a473a240b2bc0d94657042a1fa78159e6a4113d009e650000fa6a9d23aa06548.8309196c7882bd29c98bab9bde57c29e2c2c75cf29d7143d1d88ce0b25eafe63.lock\n",
      "I0525 06:46:14.496075 139846855460672 configuration_utils.py:285] loading configuration file https://s3.amazonaws.com/models.huggingface.co/bert/dbmdz/bert-large-cased-finetuned-conll03-english/config.json from cache at /home/haridas/.cache/torch/transformers/a473a240b2bc0d94657042a1fa78159e6a4113d009e650000fa6a9d23aa06548.8309196c7882bd29c98bab9bde57c29e2c2c75cf29d7143d1d88ce0b25eafe63\n",
      "I0525 06:46:14.497272 139846855460672 configuration_utils.py:321] Model config BertConfig {\n",
      "  \"_num_labels\": 9,\n",
      "  \"architectures\": [\n",
      "    \"BertForTokenClassification\"\n",
      "  ],\n",
      "  \"attention_probs_dropout_prob\": 0.1,\n",
      "  \"directionality\": \"bidi\",\n",
      "  \"hidden_act\": \"gelu\",\n",
      "  \"hidden_dropout_prob\": 0.1,\n",
      "  \"hidden_size\": 1024,\n",
      "  \"id2label\": {\n",
      "    \"0\": \"O\",\n",
      "    \"1\": \"B-MISC\",\n",
      "    \"2\": \"I-MISC\",\n",
      "    \"3\": \"B-PER\",\n",
      "    \"4\": \"I-PER\",\n",
      "    \"5\": \"B-ORG\",\n",
      "    \"6\": \"I-ORG\",\n",
      "    \"7\": \"B-LOC\",\n",
      "    \"8\": \"I-LOC\"\n",
      "  },\n",
      "  \"initializer_range\": 0.02,\n",
      "  \"intermediate_size\": 4096,\n",
      "  \"label2id\": {\n",
      "    \"B-LOC\": 7,\n",
      "    \"B-MISC\": 1,\n",
      "    \"B-ORG\": 5,\n",
      "    \"B-PER\": 3,\n",
      "    \"I-LOC\": 8,\n",
      "    \"I-MISC\": 2,\n",
      "    \"I-ORG\": 6,\n",
      "    \"I-PER\": 4,\n",
      "    \"O\": 0\n",
      "  },\n",
      "  \"layer_norm_eps\": 1e-12,\n",
      "  \"max_position_embeddings\": 512,\n",
      "  \"model_type\": \"bert\",\n",
      "  \"num_attention_heads\": 16,\n",
      "  \"num_hidden_layers\": 24,\n",
      "  \"pad_token_id\": 0,\n",
      "  \"pooler_fc_size\": 768,\n",
      "  \"pooler_num_attention_heads\": 12,\n",
      "  \"pooler_num_fc_layers\": 3,\n",
      "  \"pooler_size_per_head\": 128,\n",
      "  \"pooler_type\": \"first_token_transform\",\n",
      "  \"type_vocab_size\": 2,\n",
      "  \"vocab_size\": 28996\n",
      "}\n",
      "\n"
     ]
    },
    {
     "name": "stdout",
     "output_type": "stream",
     "text": [
      "\n"
     ]
    },
    {
     "name": "stderr",
     "output_type": "stream",
     "text": [
      "I0525 06:46:15.418590 139846855460672 filelock.py:274] Lock 139842528621232 acquired on /home/haridas/.cache/torch/transformers/260d6de20be053fffff53f4a6d9a1be612fbbc78418a86c6b71d34123d67cce6.455d944f3d1572ab55ed579849f751cf37f303e3388980a42d94f7cd57a4e331.lock\n",
      "I0525 06:46:15.421290 139846855460672 file_utils.py:436] https://s3.amazonaws.com/models.huggingface.co/bert/dbmdz/bert-large-cased-finetuned-conll03-english/modelcard.json not found in cache or force_download set to True, downloading to /home/haridas/.cache/torch/transformers/tmp46ehzq8a\n"
     ]
    },
    {
     "data": {
      "application/vnd.jupyter.widget-view+json": {
       "model_id": "2cf08780be37460696598e1083884dcb",
       "version_major": 2,
       "version_minor": 0
      },
      "text/plain": [
       "HBox(children=(FloatProgress(value=0.0, description='Downloading', max=230.0, style=ProgressStyle(description_…"
      ]
     },
     "metadata": {},
     "output_type": "display_data"
    },
    {
     "name": "stderr",
     "output_type": "stream",
     "text": [
      "I0525 06:46:16.394998 139846855460672 file_utils.py:440] storing https://s3.amazonaws.com/models.huggingface.co/bert/dbmdz/bert-large-cased-finetuned-conll03-english/modelcard.json in cache at /home/haridas/.cache/torch/transformers/260d6de20be053fffff53f4a6d9a1be612fbbc78418a86c6b71d34123d67cce6.455d944f3d1572ab55ed579849f751cf37f303e3388980a42d94f7cd57a4e331\n",
      "I0525 06:46:16.396351 139846855460672 file_utils.py:443] creating metadata file for /home/haridas/.cache/torch/transformers/260d6de20be053fffff53f4a6d9a1be612fbbc78418a86c6b71d34123d67cce6.455d944f3d1572ab55ed579849f751cf37f303e3388980a42d94f7cd57a4e331\n",
      "I0525 06:46:16.397365 139846855460672 filelock.py:318] Lock 139842528621232 released on /home/haridas/.cache/torch/transformers/260d6de20be053fffff53f4a6d9a1be612fbbc78418a86c6b71d34123d67cce6.455d944f3d1572ab55ed579849f751cf37f303e3388980a42d94f7cd57a4e331.lock\n",
      "I0525 06:46:16.398043 139846855460672 modelcard.py:161] loading model card file https://s3.amazonaws.com/models.huggingface.co/bert/dbmdz/bert-large-cased-finetuned-conll03-english/modelcard.json from cache at /home/haridas/.cache/torch/transformers/260d6de20be053fffff53f4a6d9a1be612fbbc78418a86c6b71d34123d67cce6.455d944f3d1572ab55ed579849f751cf37f303e3388980a42d94f7cd57a4e331\n",
      "I0525 06:46:16.399146 139846855460672 modelcard.py:179] Model card: {\n",
      "  \"caveats_and_recommendations\": {},\n",
      "  \"ethical_considerations\": {},\n",
      "  \"evaluation_data\": {},\n",
      "  \"factors\": {},\n",
      "  \"intended_use\": {},\n",
      "  \"metrics\": {},\n",
      "  \"model_details\": {},\n",
      "  \"quantitative_analyses\": {},\n",
      "  \"training_data\": {}\n",
      "}\n",
      "\n"
     ]
    },
    {
     "name": "stdout",
     "output_type": "stream",
     "text": [
      "\n"
     ]
    },
    {
     "name": "stderr",
     "output_type": "stream",
     "text": [
      "I0525 06:46:17.645102 139846855460672 filelock.py:274] Lock 139842528974272 acquired on /home/haridas/.cache/torch/transformers/4b02c1fe04cf7f7e6972536150e9fb329c7b3d5720b82afdac509bd750c705d2.6dcb154688bb97608a563afbf68ba07ae6f7beafd9bd98b5a043cd269fcc02b4.lock\n",
      "I0525 06:46:17.647509 139846855460672 file_utils.py:436] https://cdn.huggingface.co/dbmdz/bert-large-cased-finetuned-conll03-english/pytorch_model.bin not found in cache or force_download set to True, downloading to /home/haridas/.cache/torch/transformers/tmplem_13i8\n"
     ]
    },
    {
     "data": {
      "application/vnd.jupyter.widget-view+json": {
       "model_id": "90cb5865657a465eb5bcbd837c72a1d5",
       "version_major": 2,
       "version_minor": 0
      },
      "text/plain": [
       "HBox(children=(FloatProgress(value=0.0, description='Downloading', max=1334448817.0, style=ProgressStyle(descr…"
      ]
     },
     "metadata": {},
     "output_type": "display_data"
    }
   ],
   "source": [
    "pipeline(\"ner\")"
   ]
  }
 ],
 "metadata": {
  "kernelspec": {
   "display_name": "Python 3",
   "language": "python",
   "name": "python3"
  },
  "language_info": {
   "codemirror_mode": {
    "name": "ipython",
    "version": 3
   },
   "file_extension": ".py",
   "mimetype": "text/x-python",
   "name": "python",
   "nbconvert_exporter": "python",
   "pygments_lexer": "ipython3",
   "version": "3.6.8"
  }
 },
 "nbformat": 4,
 "nbformat_minor": 4
}
