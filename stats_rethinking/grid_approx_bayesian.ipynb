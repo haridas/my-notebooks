{
 "cells": [
  {
   "cell_type": "markdown",
   "metadata": {},
   "source": [
    "# Laplace Model \n",
    "\n",
    "Simple model to understand the bayesian inferencing.\n",
    "\n",
    "Using the Simple grid approximation to find the posterior distribution.\n",
    "\n",
    "## Four types of approximations are \n",
    "\n",
    "1. Analytical Approach ( Often impossible ), counting or measure all possible outcomes.\n",
    "2. Grid approximation (Very intensive )\n",
    "3. Quadratic Approximation ( Limited )\n",
    "4. Markov Chain Monte carlo ( Intensive )"
   ]
  },
  {
   "cell_type": "markdown",
   "metadata": {},
   "source": [
    "# Problem 1\n",
    "\n",
    "Refer: https://www.youtube.com/watch?v=XoVtOAN0htU&t=102s  For the lecture.\n",
    "\n",
    "Identify the proption of Water on a Globe by throwing a globe \n",
    "Eeach time and catch it, if your point finger is on a water position\n",
    "then mark as \"W\" or as Land \"L\".\n",
    "\n",
    "Do this experiment / Trial / Process and find out the propotion of water\n",
    "on globe. Let's assume $p$ as the proption and it's not observed directly,\n",
    "we need to find it from the above experiment.\n",
    "\n",
    "Here we are trying to identify the $p$'s posterior distribution by using bayesian\n",
    "estimation.\n",
    "\n",
    "\n",
    "\n",
    "## Grid approximation\n",
    "\n",
    "Assumes take few sample constant intervals to be computed to calculate the posterior,\n",
    "from all posible values for the posterior.\n",
    "\n"
   ]
  },
  {
   "cell_type": "code",
   "execution_count": 18,
   "metadata": {},
   "outputs": [],
   "source": [
    "# Grid Approximation.\n",
    "# \n",
    "p_grid <- seq(from = 0, to = 1, length.out = 1000)"
   ]
  },
  {
   "cell_type": "code",
   "execution_count": 19,
   "metadata": {},
   "outputs": [],
   "source": [
    "# Create a vector 1000 length of 1, or replicate 1 in 1000 times.\n",
    "# Treating prior as the uniformly distributed.\n",
    "p_prob <- rep(1, 1000)"
   ]
  },
  {
   "cell_type": "code",
   "execution_count": 38,
   "metadata": {},
   "outputs": [],
   "source": [
    "# plot(p_prob)\n",
    "# plot(p_grid)"
   ]
  },
  {
   "cell_type": "code",
   "execution_count": 17,
   "metadata": {},
   "outputs": [],
   "source": [
    "prob_data <- dbinom(6, size = 9, prob = p_grid)"
   ]
  },
  {
   "cell_type": "code",
   "execution_count": 20,
   "metadata": {},
   "outputs": [],
   "source": [
    "posterior <- prob_data * p_prob"
   ]
  },
  {
   "cell_type": "code",
   "execution_count": 24,
   "metadata": {},
   "outputs": [],
   "source": [
    "posterior <- posterior / sum(posterior)"
   ]
  },
  {
   "cell_type": "code",
   "execution_count": 39,
   "metadata": {},
   "outputs": [],
   "source": [
    "# plot(posterior, from = 0, to = 1)\n",
    "# sum(p_grid)"
   ]
  }
 ],
 "metadata": {
  "kernelspec": {
   "display_name": "R",
   "language": "R",
   "name": "ir"
  },
  "language_info": {
   "codemirror_mode": "r",
   "file_extension": ".r",
   "mimetype": "text/x-r-source",
   "name": "R",
   "pygments_lexer": "r",
   "version": "3.4.4"
  }
 },
 "nbformat": 4,
 "nbformat_minor": 4
}
