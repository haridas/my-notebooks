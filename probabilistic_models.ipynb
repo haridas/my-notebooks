{
 "cells": [
  {
   "cell_type": "code",
   "execution_count": 129,
   "metadata": {},
   "outputs": [],
   "source": [
    "import pymc3 as pm\n",
    "import numpy as np\n",
    "import matplotlib\n",
    "from scipy import stats\n",
    "import seaborn as sb\n",
    "\n",
    "%matplotlib inline"
   ]
  },
  {
   "cell_type": "markdown",
   "metadata": {},
   "source": [
    "## Generate Bernoulli Random Variable with given p\n",
    "\n",
    "Generate the bernoulli random variable with probability `p=0.1` and\n",
    "generate `10000` samples from it and see the expected value of the\n",
    "random variable.\n",
    "\n",
    "Bernoulli random variables are boolean type, ie; each variable can hold either `0 or 1` as its value.\n",
    "\n",
    "Probability `p` means, what's the probability of getting value `1`"
   ]
  },
  {
   "cell_type": "code",
   "execution_count": 51,
   "metadata": {},
   "outputs": [
    {
     "data": {
      "text/plain": [
       "0.0987"
      ]
     },
     "execution_count": 51,
     "metadata": {},
     "output_type": "execute_result"
    }
   ],
   "source": [
    "stats.bernoulli.rvs(0.1, size=10000).sum() / 10000"
   ]
  },
  {
   "cell_type": "code",
   "execution_count": 97,
   "metadata": {},
   "outputs": [
    {
     "data": {
      "text/plain": [
       "0.82"
      ]
     },
     "execution_count": 97,
     "metadata": {},
     "output_type": "execute_result"
    }
   ],
   "source": [
    "# stats.chi2.entropy?\n",
    "stats.bernoulli.rvs(0.8, size=100).sum() / 100"
   ]
  },
  {
   "cell_type": "code",
   "execution_count": 68,
   "metadata": {},
   "outputs": [],
   "source": [
    "# stats.chisquare?\n",
    "# stats.beta.pdf(np.linspace(0, 1, 100), 10, 10)\n",
    "# stats.beta.pdf??"
   ]
  },
  {
   "cell_type": "markdown",
   "metadata": {},
   "source": []
  },
  {
   "cell_type": "code",
   "execution_count": 135,
   "metadata": {},
   "outputs": [],
   "source": [
    "data = np.array([int(i) for i in np.random.random(size=100) * 100])"
   ]
  },
  {
   "cell_type": "code",
   "execution_count": 147,
   "metadata": {},
   "outputs": [],
   "source": [
    "# pm.Poisson??"
   ]
  },
  {
   "cell_type": "code",
   "execution_count": 149,
   "metadata": {},
   "outputs": [
    {
     "name": "stderr",
     "output_type": "stream",
     "text": [
      "Multiprocess sampling (2 chains in 2 jobs)\n",
      "CompoundStep\n",
      ">Metropolis: [tau]\n",
      ">Metropolis: [lambda_2]\n",
      ">Metropolis: [lambda_1]\n",
      "Sampling 2 chains, 0 divergences: 100%|██████████| 3000/3000 [00:00<00:00, 3429.52draws/s]\n",
      "The rhat statistic is larger than 1.4 for some parameters. The sampler did not converge.\n",
      "The estimated number of effective samples is smaller than 200 for some parameters.\n"
     ]
    }
   ],
   "source": [
    "# Fit two poisson distribution on the dataset, with\n",
    "# parameter which pick lambda1 vs lambda2.\n",
    "#\n",
    "with pm.Model() as model:\n",
    "    alpha = 1 / data.mean()\n",
    "    lambda_1 = pm.Exponential(\"lambda_1\", alpha)\n",
    "    lambda_2 = pm.Exponential(\"lambda_2\", alpha)\n",
    "    \n",
    "    tau = pm.DiscreteUniform(\"tau\", lower=0, upper=len(data) - 1)\n",
    "    \n",
    "    # Picking the Poison \n",
    "    idx = np.arange(len(data))\n",
    "    lambda_ = pm.math.switch(tau > idx, lambda_1, lambda_2)\n",
    "    \n",
    "    observation = pm.Poisson(\"obs\", lambda_, observed=data)\n",
    "    step = pm.Metropolis()\n",
    "    trace = pm.sample(1000, tune=500, step=step)"
   ]
  },
  {
   "cell_type": "code",
   "execution_count": 153,
   "metadata": {},
   "outputs": [
    {
     "data": {
      "text/plain": [
       "array([40.44049163, 40.44049163, 40.44049163, ..., 49.50237113,\n",
       "       49.50237113, 49.50237113])"
      ]
     },
     "execution_count": 153,
     "metadata": {},
     "output_type": "execute_result"
    }
   ],
   "source": [
    "trace[\"lambda_1\"]"
   ]
  }
 ],
 "metadata": {
  "kernelspec": {
   "display_name": "Python 3",
   "language": "python",
   "name": "python3"
  },
  "language_info": {
   "codemirror_mode": {
    "name": "ipython",
    "version": 3
   },
   "file_extension": ".py",
   "mimetype": "text/x-python",
   "name": "python",
   "nbconvert_exporter": "python",
   "pygments_lexer": "ipython3",
   "version": "3.7.3"
  }
 },
 "nbformat": 4,
 "nbformat_minor": 4
}
